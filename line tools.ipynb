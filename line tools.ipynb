{
 "cells": [
  {
   "cell_type": "markdown",
   "metadata": {},
   "source": [
    "## Line Tools"
   ]
  },
  {
   "cell_type": "code",
   "execution_count": 1,
   "metadata": {},
   "outputs": [],
   "source": [
    "%matplotlib inline\n",
    "\n",
    "import numpy as np"
   ]
  },
  {
   "cell_type": "code",
   "execution_count": 2,
   "metadata": {},
   "outputs": [],
   "source": [
    "def get_slope(lines, eps=1e-7):\n",
    "    '''\n",
    "    @param lines is a numpy array with shape (n, 4)\n",
    "    where n is the number of the lines and each line\n",
    "    element has four attributes- x1, y1, x2, y2 in this order.\n",
    "    Calculates the slope using eqn: (x2-x1)/(y2-y1)\n",
    "    @param eps is for numerical stability. If None, takes machine epsilon\n",
    "    '''\n",
    "    if eps is None:\n",
    "        eps = np.finfo(np.float32).eps\n",
    "    xdiff = lines[:,2] - lines[:,0] + eps # x2 - x1 + eps[to avoid division by zero]\n",
    "    return np.divide((lines[:,3] - lines[:,1]), xdiff, where= xdiff != 0)"
   ]
  },
  {
   "cell_type": "code",
   "execution_count": 3,
   "metadata": {},
   "outputs": [],
   "source": [
    "def slope_mask(lines, _max=None, _min=None, eps=1e-7):\n",
    "    '''\n",
    "    @param lines is a numpy array with shape (n, 4)\n",
    "    where n is the number of the lines and each line\n",
    "    element has four attributes- x1, y1, x2, y2 in this order.\n",
    "    '''\n",
    "    mask = np.ones([lines.shape[0]]).astype(np.bool)\n",
    "    m = get_slope(lines, eps=eps)\n",
    "    if _max is not None:\n",
    "        mask = np.logical_and(mask, m < _max)\n",
    "    if _min is not None:\n",
    "        mask = np.logical_and(mask, m > _min)\n",
    "    return mask"
   ]
  },
  {
   "cell_type": "code",
   "execution_count": 11,
   "metadata": {},
   "outputs": [],
   "source": [
    "def grouper(bool_mask):\n",
    "    '''\n",
    "    Returns the undirected graphs from a connection matrix.\n",
    "    The connection matrix is represented as a boolean matrix in @param bool_mask.\n",
    "    '''\n",
    "    rr = bool_mask\n",
    "    start = [x for x in range(0, rr.shape[0])]\n",
    "    to_explore = []\n",
    "    groups = []\n",
    "    visited = []\n",
    "    for i in start:\n",
    "        if i in visited:\n",
    "            # if i is already visited then skip the process\n",
    "            continue\n",
    "        visited.append(i)\n",
    "        to_explore = []\n",
    "        t = np.nonzero(rr[:, i])[0]\n",
    "        if t.shape[0] != 0:\n",
    "            to_explore.extend(list(t))\n",
    "        for j in to_explore:\n",
    "            if j in visited:\n",
    "                continue\n",
    "            visited.append(j)\n",
    "            t = np.nonzero(rr[:, j])[0]\n",
    "            if t.shape[0] != 0:\n",
    "                to_explore.extend(list(t))\n",
    "        to_explore.append(i)\n",
    "        groups.append(set(to_explore))   \n",
    "    return groups"
   ]
  },
  {
   "cell_type": "code",
   "execution_count": 5,
   "metadata": {},
   "outputs": [],
   "source": [
    "def grp_endpoints(lines, radius=5):\n",
    "    '''\n",
    "    Groups line segments @param lines, if their end points are nearby within a @param radius(not inclusive).\n",
    "    Returns the grouping in a boolean matrix\n",
    "    '''\n",
    "    # Circular grouping\n",
    "    x_vec = np.hstack([lines[:, 0], lines[:,2]])\n",
    "    y_vec = np.hstack([lines[:, 1], lines[:,3]])\n",
    "\n",
    "    circ_x_mat = np.ones([x_vec.shape[0], x_vec.shape[0]]) * x_vec\n",
    "    circ_y_mat = np.ones([y_vec.shape[0], y_vec.shape[0]]) * y_vec\n",
    "    circ_x_mat = circ_x_mat - circ_x_mat.T\n",
    "    circ_y_mat = circ_y_mat - circ_y_mat.T\n",
    "    _circ_mask = circ_x_mat**2 + circ_y_mat**2 < radius ** 2 # eqn circle- (x - centerx)2 + (y - centery)2 < (radius)2\n",
    "\n",
    "    _limit = x_vec.shape[0] //2\n",
    "    circ_mask = _circ_mask[:_limit, :_limit] + _circ_mask[_limit:, :_limit] + _circ_mask[_limit:, _limit:]\n",
    "\n",
    "    f_circ_mask = np.zeros_like(circ_mask, dtype=bool)\n",
    "    f_circ_mask[np.tril_indices(circ_mask.shape[0], -1)] = (circ_mask + circ_mask.T)[np.tril_indices(circ_mask.shape[0], -1)]\n",
    "    return f_circ_mask"
   ]
  },
  {
   "cell_type": "code",
   "execution_count": 6,
   "metadata": {},
   "outputs": [],
   "source": [
    "def grp_angle_btwn(lines, angle_threshold=30, eps=1e-7):\n",
    "    '''\n",
    "    Group line segment, @param lines, by thresholding @param angle_threshold on the angles between them.\n",
    "    @param angle_threshold is in degrees\n",
    "    Eqn used is arctan((m1 - m2) / (1 - m1 * m2))\n",
    "    '''\n",
    "    orient_lm_rad = np.radians(angle_threshold)\n",
    "\n",
    "    # Orientation grouping\n",
    "    slope_vec = np.divide((lines[:,3] - lines[:,1]),(lines[:,2] - lines[:,0]) + eps)\n",
    "    slope_mat = np.ones([slope_vec.shape[0], slope_vec.shape[0]]) * slope_vec\n",
    "    orientation = np.arctan((slope_mat - slope_mat.T) / (1 - slope_mat * slope_mat.T))\n",
    "    _orient = abs(orientation)\n",
    "\n",
    "    orientation_mask = np.zeros_like(_orient)\n",
    "    orientation_mask[np.tril_indices(orientation_mask.shape[0], -1)] = _orient[np.tril_indices(orientation_mask.shape[0], -1)] < orient_lm_rad\n",
    "    orientation_mask = orientation_mask.astype(np.bool)\n",
    "    return orientation_mask\n"
   ]
  },
  {
   "cell_type": "code",
   "execution_count": 7,
   "metadata": {},
   "outputs": [],
   "source": [
    "def grp_filter_length(lines, groups, threshold, return_length_sum=False):\n",
    "    '''\n",
    "    Filter groups @param groups, of line segments @param lines by thresholding @param threshold\n",
    "    on the sum of the length of lines segments in each group.\n",
    "    If @param return_length_sum is True, returns the sum of squares of the length of line segments.\n",
    "    '''\n",
    "    _grps = np.array(groups)\n",
    "    grp_sum = []\n",
    "    for igrp in _grps:\n",
    "        ll = lines[list(igrp)]\n",
    "        length = np.square(ll[:,0] - ll[:,2]) + np.square(ll[:,1] - ll[:,3])\n",
    "        grp_sum.append(np.sum(length))\n",
    "    grp_sum = np.array(grp_sum)\n",
    "    filtered_grp = list(_grps[grp_sum > threshold])\n",
    "    if return_length_sum:\n",
    "        return filtered_grp, grp_sum\n",
    "    return filtered_grp"
   ]
  },
  {
   "cell_type": "code",
   "execution_count": 8,
   "metadata": {},
   "outputs": [],
   "source": [
    "def grp_filter_count(groups, threshold):\n",
    "    '''\n",
    "    Filters the @param groups by thresholding @param threshold on the count of lines in each group.\n",
    "    '''\n",
    "    return list(filter(lambda x: len(x)>=threshold, groups))"
   ]
  },
  {
   "cell_type": "code",
   "execution_count": 9,
   "metadata": {},
   "outputs": [],
   "source": [
    "def allcorrect():\n",
    "    lines = [[200, 100, 300, 200], [200, 300, 200, 400], [200, 300, 400, 300]]\n",
    "    slopes = [1, 100 / np.finfo(np.float32).eps, 0]\n",
    "    lines = np.array(lines)\n",
    "    slopes = np.array(slopes)\n",
    "    assert np.allclose(get_slope(lines, eps=None), slopes)\n",
    "\n",
    "    smask = np.array([True, False, False])\n",
    "    assert np.allclose(slope_mask(lines, _max=3, _min=0, eps=None), smask)\n",
    "    \n",
    "    bool_mask = np.zeros([6,6]).astype(np.bool)    \n",
    "    bool_mask[np.diag_indices(6)] = True    \n",
    "    bool_mask[0, 1] = True\n",
    "    bool_mask[1, 4] = True\n",
    "    bool_mask[2, 3] = True\n",
    "    bool_mask = np.logical_or(bool_mask, bool_mask.T)\n",
    "    grps = np.array([{0, 1, 4}, {2, 3}, {5}])\n",
    "    assert grouper(bool_mask), grps\n",
    "    \n",
    "    grp_endpoints_lines = np.array([[50, 50, 70, 70], [74, 75, 100, 100], [200, 200, 300, 300]])\n",
    "    assert np.allclose(grp_endpoints(grp_endpoints_lines, radius=7),\\\n",
    "                       np.array([[False, False, False],\\\n",
    "                                 [ True, False, False],\\\n",
    "                                 [False, False, False]]))\n",
    "    \n",
    "    grp_angle_lines = np.array([[50, 50, 70, 70], [71, 75, 60, 60], [200, 200, 300, 300]])\n",
    "    assert np.allclose(grp_angle_btwn(grp_angle_lines, angle_threshold=40),\\\n",
    "                       np.array([[False, False, False],\\\n",
    "                                 [ False, False, False],\\\n",
    "                                 [True, False, False]]))\n",
    "    \n",
    "    emap = grp_endpoints(grp_endpoints_lines, radius=7)\n",
    "    assert grp_filter_length(lines=grp_endpoints_lines, groups=grouper(emap), threshold=10000, return_length_sum=False), [{2}]\n",
    "    \n",
    "    assert grp_filter_count(grouper(emap), 2), [{0, 1}]\n",
    "    # print(\"All OK.\")\n",
    "    return True"
   ]
  },
  {
   "cell_type": "code",
   "execution_count": 10,
   "metadata": {},
   "outputs": [
    {
     "data": {
      "text/plain": [
       "True"
      ]
     },
     "execution_count": 10,
     "metadata": {},
     "output_type": "execute_result"
    }
   ],
   "source": [
    "allcorrect()"
   ]
  },
  {
   "cell_type": "markdown",
   "metadata": {},
   "source": [
    "### Reference:\n",
    "+ Nan, Guo & Lu, Shengfang & Yao, Junen. (2016). Train wheel edge detection and image object region segmentation. 1015723. 10.1117/12.2246739. "
   ]
  }
 ],
 "metadata": {
  "kernelspec": {
   "display_name": "Python 3",
   "language": "python",
   "name": "python3"
  },
  "language_info": {
   "codemirror_mode": {
    "name": "ipython",
    "version": 3
   },
   "file_extension": ".py",
   "mimetype": "text/x-python",
   "name": "python",
   "nbconvert_exporter": "python",
   "pygments_lexer": "ipython3",
   "version": "3.7.1"
  }
 },
 "nbformat": 4,
 "nbformat_minor": 2
}
