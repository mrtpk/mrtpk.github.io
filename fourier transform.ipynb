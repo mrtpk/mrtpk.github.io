{
 "cells": [
  {
   "cell_type": "markdown",
   "metadata": {},
   "source": [
    "### fourier transform\n",
    "+ https://www.youtube.com/watch?v=spUNpyF58BY\n",
    "+ https://www.youtube.com/watch?v=1JnayXHhjlg&list=PLUMWjy5jgHK3jmgpXCQj3GRxM3u9BmO_v&index=1\n",
    "+ https://docs.opencv.org/3.0-beta/doc/py_tutorials/py_imgproc/py_transforms/py_fourier_transform/py_fourier_transform.html\n",
    "+ https://dsp.stackexchange.com/questions/6452/how-to-extract-high-frequency-and-low-frequency-component-using-bilateral-filter\n",
    "+ https://dsp.stackexchange.com/questions/1637/what-does-frequency-domain-denote-in-case-of-images\n",
    "+ http://web.archive.org/web/20130513181427/http://sharp.bu.edu/~slehar/fourier/fourier.html"
   ]
  },
  {
   "cell_type": "code",
   "execution_count": null,
   "metadata": {},
   "outputs": [],
   "source": []
  }
 ],
 "metadata": {
  "kernelspec": {
   "display_name": "Python 3",
   "language": "python",
   "name": "python3"
  },
  "language_info": {
   "codemirror_mode": {
    "name": "ipython",
    "version": 3
   },
   "file_extension": ".py",
   "mimetype": "text/x-python",
   "name": "python",
   "nbconvert_exporter": "python",
   "pygments_lexer": "ipython3",
   "version": "3.7.1"
  }
 },
 "nbformat": 4,
 "nbformat_minor": 2
}
