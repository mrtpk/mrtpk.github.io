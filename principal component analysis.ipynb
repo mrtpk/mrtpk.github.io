{
 "cells": [
  {
   "cell_type": "markdown",
   "metadata": {},
   "source": [
    "### Principal Component Analysis\n",
    "\n",
    "\n",
    "\n",
    "+ https://classroom.udacity.com/courses/ud262/lessons/649069103/concepts/6614385450923\n",
    "+ https://towardsdatascience.com/pca-using-python-scikit-learn-e653f8989e60\n",
    "+ https://machinelearningmastery.com/feature-selection-machine-learning-python/\n",
    "+ http://www.visiondummy.com/2014/05/feature-extraction-using-pca/\n",
    "+ https://jotterbach.github.io/2016/03/24/Principal_Component_Analysis/\n",
    "+ http://setosa.io/ev/principal-component-analysis/\n",
    "+ https://towardsdatascience.com/a-step-by-step-explanation-of-principal-component-analysis-b836fb9c97e2\n",
    "+ https://www.r-bloggers.com/principal-component-analysis-pca-vs-ordinary-least-squares-ols-a-visual-explanation/"
   ]
  },
  {
   "cell_type": "markdown",
   "metadata": {},
   "source": [
    "## Intution\n",
    "## Relationship between covariance matrix\n",
    "## Finding eigen vectors and values using SVM"
   ]
  },
  {
   "cell_type": "code",
   "execution_count": null,
   "metadata": {},
   "outputs": [],
   "source": [
    "\n"
   ]
  },
  {
   "cell_type": "code",
   "execution_count": null,
   "metadata": {},
   "outputs": [],
   "source": []
  },
  {
   "cell_type": "code",
   "execution_count": null,
   "metadata": {},
   "outputs": [],
   "source": []
  }
 ],
 "metadata": {
  "kernelspec": {
   "display_name": "Python 3",
   "language": "python",
   "name": "python3"
  },
  "language_info": {
   "codemirror_mode": {
    "name": "ipython",
    "version": 3
   },
   "file_extension": ".py",
   "mimetype": "text/x-python",
   "name": "python",
   "nbconvert_exporter": "python",
   "pygments_lexer": "ipython3",
   "version": "3.7.1"
  }
 },
 "nbformat": 4,
 "nbformat_minor": 2
}
