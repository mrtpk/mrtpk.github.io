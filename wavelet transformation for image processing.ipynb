{
 "cells": [
  {
   "cell_type": "markdown",
   "metadata": {},
   "source": [
    "## Wavelet transformation for image processing\n",
    "\n",
    "+ https://www.youtube.com/watch?v=QX1-xGVFqmw\n",
    "+ http://inside.mines.edu/~whoff/courses/EENG510/lectures/24-Wavelets.pdf\n",
    "+ http://www.imageprocessingplace.com/downloads_V3/root_downloads/tutorials/Wavelets--An%20Introduction.pdf\n",
    "+ http://www.numerical-tours.com/python/\n",
    "+ https://github.com/PyWavelets/pywt\n",
    "+ http://web.iitd.ac.in/~sumeet/WaveletTutorial.pdf"
   ]
  },
  {
   "cell_type": "code",
   "execution_count": null,
   "metadata": {},
   "outputs": [],
   "source": []
  }
 ],
 "metadata": {
  "kernelspec": {
   "display_name": "Python 3",
   "language": "python",
   "name": "python3"
  },
  "language_info": {
   "codemirror_mode": {
    "name": "ipython",
    "version": 3
   },
   "file_extension": ".py",
   "mimetype": "text/x-python",
   "name": "python",
   "nbconvert_exporter": "python",
   "pygments_lexer": "ipython3",
   "version": "3.7.1"
  }
 },
 "nbformat": 4,
 "nbformat_minor": 2
}
